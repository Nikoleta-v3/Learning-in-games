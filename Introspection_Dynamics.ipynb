{
 "cells": [
  {
   "cell_type": "code",
   "execution_count": 1,
   "id": "ff7b112c-f31f-46c1-b8df-a7c66702427a",
   "metadata": {},
   "outputs": [],
   "source": [
    "import numpy as np\n",
    "\n",
    "import matplotlib.pyplot as plt"
   ]
  },
  {
   "cell_type": "code",
   "execution_count": 2,
   "id": "86b371cc",
   "metadata": {},
   "outputs": [],
   "source": [
    "import nashpy as nash"
   ]
  },
  {
   "cell_type": "code",
   "execution_count": 3,
   "id": "54ceda4d",
   "metadata": {},
   "outputs": [],
   "source": [
    "import repeated_play"
   ]
  },
  {
   "cell_type": "code",
   "execution_count": 94,
   "id": "72ce2c1b",
   "metadata": {},
   "outputs": [],
   "source": [
    "from tqdm.notebook import tqdm"
   ]
  },
  {
   "cell_type": "code",
   "execution_count": 88,
   "id": "4bf99af5",
   "metadata": {},
   "outputs": [],
   "source": [
    "def calc_payoffs_and_cooperation_rates(\n",
    "    p1_strategy, p2_strategy, payoffs_p1, payoffs_p2\n",
    "):\n",
    "    M = repeated_play.transition_matrix_repeated_game(\n",
    "        p1_strategy * 2, p2_strategy * 2, memory=\"one\"\n",
    "    )\n",
    "\n",
    "    ss = repeated_play.stationary_distribution(M)[0]\n",
    "\n",
    "    coop1 = ss[0] + ss[1]\n",
    "\n",
    "    coop2 = ss[0] + ss[2]\n",
    "\n",
    "    return (ss @ payoffs_p1, ss @ payoffs_p2, coop1, coop2)"
   ]
  },
  {
   "cell_type": "code",
   "execution_count": 16,
   "id": "2c5ab781-c4d0-45ba-b7df-1f316f5bdea5",
   "metadata": {},
   "outputs": [],
   "source": [
    "def introspection_dynamics_one_shot(\n",
    "    game, initial_state, beta, max_timesteps\n",
    "):\n",
    "    \"\"\"\n",
    "    Runs introspection dynamics for 2x2 one shot games.\n",
    "\n",
    "    Parameters\n",
    "    ----------\n",
    "    game : nash.game\n",
    "        The game.\n",
    "    initial_state : tuple\n",
    "        The initial strategies of the players\n",
    "    payoff_matrix : float\n",
    "        The seleection strenght.\n",
    "    max_timesteps : int\n",
    "        Number of learning steps in the introspection dynamic.\n",
    "\n",
    "    Returns\n",
    "    -------\n",
    "    array\n",
    "        An array with the strategies adopted by the two players over the learning time.\n",
    "    \"\"\"\n",
    "\n",
    "    payoffs_row_player = game.payoff_matrices[0]\n",
    "    payoffs_col_player = game.payoff_matrices[1].T\n",
    "\n",
    "    payoffs = [payoffs_row_player, payoffs_col_player]\n",
    "\n",
    "    strategies = initial_state\n",
    "\n",
    "    states = np.zeros((max_timesteps, 2))\n",
    "\n",
    "    states[0, :] = initial_state\n",
    "\n",
    "    for timestep in range(max_timesteps):\n",
    "        # Select a random player and then define the coplayer\n",
    "        # For the player get their current strategy and their alternative\n",
    "\n",
    "        who_updates, coplayer = np.random.choice(\n",
    "            [0, 1], 2, replace=False\n",
    "        )\n",
    "\n",
    "        current_strategy = strategies[who_updates]\n",
    "\n",
    "        alternative_strategy = abs(1 - current_strategy)\n",
    "\n",
    "        co_players_strategy = strategies[coplayer]\n",
    "\n",
    "        # Define the current payoff and the alternative\n",
    "        # Update based on the fermi function\n",
    "\n",
    "        current_payoff = payoffs[who_updates][\n",
    "            current_strategy\n",
    "        ][co_players_strategy]\n",
    "\n",
    "        alternative_payoff = payoffs[who_updates][\n",
    "            alternative_strategy\n",
    "        ][co_players_strategy]\n",
    "\n",
    "        update_probability = 1 / (\n",
    "            np.e\n",
    "            ** (\n",
    "                -beta\n",
    "                * (alternative_payoff - current_payoff)\n",
    "            )\n",
    "        )\n",
    "\n",
    "        if update_probability > np.random.random():\n",
    "            strategies[who_updates] = alternative_strategy\n",
    "\n",
    "        states[timestep, :] = strategies\n",
    "\n",
    "    return states"
   ]
  },
  {
   "cell_type": "code",
   "execution_count": 98,
   "id": "38a559db",
   "metadata": {},
   "outputs": [],
   "source": [
    "def introspection_dynamics_repeated_game(\n",
    "    game, initial_strategies, beta, max_timesteps\n",
    "):\n",
    "    \"\"\"\n",
    "    Runs introspection dynamics for repeated games between two player.\n",
    "\n",
    "    We assume that players use reactive-1 strategies. These are strategies that\n",
    "    react to the co-players previous turn and they can be defined by a 2 dimensional\n",
    "    vector. Namely a reactive-1 strategy is given by p = (pC, pD) where.\n",
    "\n",
    "    Parameters\n",
    "    ----------\n",
    "    game : nash.game\n",
    "        The game.\n",
    "    initial_state : tuple\n",
    "        The initial strategies of the players\n",
    "    payoff_matrix : float\n",
    "        The seleection strenght.\n",
    "    max_timesteps : int\n",
    "        Number of learning steps in the introspection dynamic.\n",
    "\n",
    "    Returns\n",
    "    -------\n",
    "    array\n",
    "        An array with the strategies adopted by the two players over the learning time.\n",
    "    \"\"\"\n",
    "\n",
    "    payoffs_p1 = game.payoff_matrices[0].flatten()\n",
    "    payoffs_p2 = game.payoff_matrices[1].T.flatten()\n",
    "\n",
    "    payoffs = [payoffs_p1, payoffs_p2]\n",
    "\n",
    "    p1_strategy = initial_strategies[0]\n",
    "    p2_strategy = initial_strategies[1]\n",
    "\n",
    "    strategies = [p1_strategy, p2_strategy]\n",
    "\n",
    "    data_over_learning = np.zeros((max_timesteps, 8))\n",
    "\n",
    "    (\n",
    "        current_payoff_p1,\n",
    "        current_payoff_p2,\n",
    "        coop1,\n",
    "        coop2,\n",
    "    ) = calc_payoffs_and_cooperation_rates(\n",
    "        p1_strategy, p2_strategy, payoffs_p1, payoffs_p2\n",
    "    )\n",
    "\n",
    "    data_over_learning[0, :] = [*p1_strategy, *p2_strategy, coop1, coop2, current_payoff_p1, current_payoff_p2]\n",
    "\n",
    "    for timestep in tqdm(range(max_timesteps)):\n",
    "        # Select a random player and then define the coplayer\n",
    "        # For the player get their current strategy and their alternative\n",
    "\n",
    "        who_updates, coplayer = np.random.choice([0, 1], 2, replace=False)\n",
    "\n",
    "        current_strategy = strategies[who_updates]\n",
    "\n",
    "        alternative_strategy = list(np.random.random(2))\n",
    "\n",
    "        co_players_strategy = strategies[coplayer]\n",
    "\n",
    "        # Define the current payoff and the alternative\n",
    "        # Update based on the fermi function\n",
    "\n",
    "        (\n",
    "            current_payoff_up,\n",
    "            current_payoff_cop,\n",
    "            coop_up,\n",
    "            coop_cop,\n",
    "        ) = calc_payoffs_and_cooperation_rates(\n",
    "            current_strategy * 2, co_players_strategy, payoffs_p1, payoffs_p2\n",
    "        )\n",
    "\n",
    "        (\n",
    "            alternative_payoff_up,\n",
    "            alternative_payoff_cop,\n",
    "            alternative_coop_up,\n",
    "            alternative_coop_cop,\n",
    "        ) = calc_payoffs_and_cooperation_rates(\n",
    "            alternative_strategy * 2, co_players_strategy * 2, payoffs_p1, payoffs_p2\n",
    "        )\n",
    "\n",
    "        update_probability = 1 / (\n",
    "            np.e ** (-beta * (alternative_payoff_up - current_payoff_up))\n",
    "        )\n",
    "\n",
    "        if update_probability > np.random.random():\n",
    "            strategies[who_updates] = alternative_strategy\n",
    "\n",
    "            coop_up = alternative_coop_up\n",
    "\n",
    "            coop_cop = alternative_coop_cop\n",
    "            \n",
    "            current_payoff_up = alternative_payoff_up\n",
    "            \n",
    "            current_payoff_cop = alternative_coop_cop\n",
    "\n",
    "        data_over_learning[timestep, :] = [\n",
    "            *strategies[0],\n",
    "            *strategies[1],\n",
    "            coop_up,\n",
    "            coop_cop,\n",
    "            current_payoff_up,\n",
    "            current_payoff_cop\n",
    "        ]\n",
    "\n",
    "    return data_over_learning"
   ]
  },
  {
   "cell_type": "code",
   "execution_count": 8,
   "id": "e6b568b3",
   "metadata": {},
   "outputs": [],
   "source": [
    "def plot_introspection_trajectory(result):\n",
    "    x, y = zip(*result)\n",
    "\n",
    "    fig, axes = plt.subplots(ncols=2, figsize=(10, 3.5))\n",
    "\n",
    "    axes[0].plot(x, color=\"tab:red\")\n",
    "    axes[1].plot(y, color=\"tab:blue\")\n",
    "\n",
    "    axes[0].set_title(\"Row player actions\")\n",
    "    axes[1].set_title(\"Column player actions\")\n",
    "\n",
    "    for ax in axes:\n",
    "        ax.set_ylabel(\"probability of playing A\")\n",
    "        ax.set_xlabel(\"timesteps\")"
   ]
  },
  {
   "cell_type": "code",
   "execution_count": 9,
   "id": "588224c8",
   "metadata": {},
   "outputs": [],
   "source": [
    "def plot_introspection_states_distribution(result):\n",
    "    dict_ = {\n",
    "        (1, 1): \"(D, D)\",\n",
    "        (0, 0): \"(C, C)\",\n",
    "        (0, 1): \"(C, D)\",\n",
    "        (1, 0): \"(D, C)\",\n",
    "    }\n",
    "\n",
    "    result_transformed = [dict_[i] for i in result]\n",
    "\n",
    "    fig, ax = plt.subplots()\n",
    "\n",
    "    ax.bar(\n",
    "        range(4),\n",
    "        [\n",
    "            result_transformed.count(state) / len(result)\n",
    "            for state in [\n",
    "                \"(C, C)\",\n",
    "                \"(C, D)\",\n",
    "                \"(D, C)\",\n",
    "                \"(D, D)\",\n",
    "            ]\n",
    "        ],\n",
    "    )\n",
    "\n",
    "    ax.set_xticks(\n",
    "        range(4), [\"(C, C)\", \"(C, D)\", \"(D, C)\", \"(D, D)\"]\n",
    "    )\n",
    "\n",
    "    ax.set_ylabel(\"frequency\")\n",
    "\n",
    "    return fig, ax"
   ]
  },
  {
   "cell_type": "code",
   "execution_count": 10,
   "id": "0db070ec",
   "metadata": {},
   "outputs": [],
   "source": [
    "def introspection_over_betas(\n",
    "    game, initial_state, beta, max_timesteps\n",
    "):\n",
    "    dict_ = {\n",
    "        (1, 1): \"(D, D)\",\n",
    "        (0, 0): \"(C, C)\",\n",
    "        (0, 1): \"(C, D)\",\n",
    "        (1, 0): \"(D, C)\",\n",
    "    }\n",
    "\n",
    "    betas = [10**i for i in np.linspace(-2, 2, 20)]\n",
    "\n",
    "    payoffs = game.payoff_matrices[0]\n",
    "\n",
    "    states = []\n",
    "\n",
    "    for beta in betas:\n",
    "        result = introspection_dynamics(\n",
    "            game, initial_state, beta, max_timesteps\n",
    "        )\n",
    "        result_transformed = [dict_[i] for i in result]\n",
    "\n",
    "        states.append(\n",
    "            [\n",
    "                result_transformed.count(state)\n",
    "                / max_timesteps\n",
    "                for state in list(dict_.values())\n",
    "            ]\n",
    "        )\n",
    "\n",
    "    fig, ax = plt.subplots()\n",
    "\n",
    "    ax.plot(states, label=list(dict_.values()))\n",
    "\n",
    "    ax.set_xticks([0, 20], [0, 100])\n",
    "\n",
    "    ax.set_xlabel(\"strenght of selection\")\n",
    "\n",
    "    ax.legend()\n",
    "\n",
    "\n",
    "#     return fig, ax"
   ]
  },
  {
   "cell_type": "code",
   "execution_count": 29,
   "id": "0baf2504",
   "metadata": {},
   "outputs": [],
   "source": [
    "def f(x):\n",
    "    return x[0] + (x[1] == 1) * 2"
   ]
  },
  {
   "cell_type": "markdown",
   "id": "dd2c73f3-2045-4bd8-8fa0-36255fd9b550",
   "metadata": {},
   "source": [
    "## Prisoner's dilemma"
   ]
  },
  {
   "cell_type": "code",
   "execution_count": 7,
   "id": "e79bc23d-aa37-4619-bc0f-d8ade8c1503b",
   "metadata": {},
   "outputs": [],
   "source": [
    "payoffs = [[3, 0], [5, 1]]\n",
    "\n",
    "dict_ = {\n",
    "    (1, 1): \"(D, D)\",\n",
    "    (0, 0): \"(C, C)\",\n",
    "    (0, 1): \"(C, D)\",\n",
    "    (1, 0): \"(D, C)\",\n",
    "}"
   ]
  },
  {
   "cell_type": "code",
   "execution_count": 8,
   "id": "3aca3439",
   "metadata": {},
   "outputs": [
    {
     "data": {
      "text/plain": [
       "Bi matrix game with payoff matrices:\n",
       "\n",
       "Row player:\n",
       "[[3 0]\n",
       " [5 1]]\n",
       "\n",
       "Column player:\n",
       "[[3 5]\n",
       " [0 1]]"
      ]
     },
     "execution_count": 8,
     "metadata": {},
     "output_type": "execute_result"
    }
   ],
   "source": [
    "payoffs_row_player = np.array([[3, 0], [5, 1]])\n",
    "payoffs_col_player = np.array([[3, 5], [0, 1]])\n",
    "\n",
    "game = nash.Game(payoffs_row_player, payoffs_col_player)\n",
    "game"
   ]
  },
  {
   "cell_type": "code",
   "execution_count": 17,
   "id": "3210f123",
   "metadata": {},
   "outputs": [],
   "source": [
    "results = introspection_dynamics_one_shot(game, [0, 0], 5, 10 ** 3)"
   ]
  },
  {
   "cell_type": "code",
   "execution_count": 19,
   "id": "c81527a6",
   "metadata": {},
   "outputs": [
    {
     "data": {
      "text/plain": [
       "array([[1., 0.],\n",
       "       [1., 0.],\n",
       "       [1., 1.],\n",
       "       ...,\n",
       "       [1., 1.],\n",
       "       [1., 1.],\n",
       "       [1., 1.]])"
      ]
     },
     "execution_count": 19,
     "metadata": {},
     "output_type": "execute_result"
    }
   ],
   "source": [
    "results"
   ]
  },
  {
   "cell_type": "code",
   "execution_count": 41,
   "id": "12580f30",
   "metadata": {},
   "outputs": [],
   "source": [
    "def introspection_over_betas(\n",
    "    game, initial_state, max_timesteps\n",
    "):\n",
    "\n",
    "    betas = [10**i for i in np.linspace(-2, 2, 20)]\n",
    "\n",
    "    states = []\n",
    "\n",
    "    for beta in betas:\n",
    "        results = introspection_dynamics_one_shot(\n",
    "            game, initial_state, beta, max_timesteps\n",
    "        )\n",
    "        \n",
    "        outcomes = np.array(list(map(f, results)))\n",
    "        \n",
    "        unique, counts = np.unique(outcomes, return_counts=True)\n",
    "        \n",
    "        dicts_ = dict(zip(unique, counts))\n",
    "\n",
    "        states.append(\n",
    "            [\n",
    "                dicts_[i]\n",
    "                / max_timesteps\n",
    "                for i in range(3)\n",
    "            ]\n",
    "        )\n",
    "\n",
    "    fig, ax = plt.subplots()\n",
    "\n",
    "    ax.plot(states, label=['CC', \"CD\", \"DC\", \"DD\"])\n",
    "\n",
    "    ax.set_xticks([0, 20], [0, 100])\n",
    "\n",
    "    ax.set_xlabel(\"strenght of selection\")\n",
    "\n",
    "    ax.legend()\n",
    "\n",
    "    return fig, ax"
   ]
  },
  {
   "cell_type": "code",
   "execution_count": 71,
   "id": "d7cd10e8",
   "metadata": {},
   "outputs": [],
   "source": [
    "b, c1, c2 = 1, 0.6, 0.1"
   ]
  },
  {
   "cell_type": "code",
   "execution_count": 75,
   "id": "ac100cc4",
   "metadata": {},
   "outputs": [
    {
     "data": {
      "text/plain": [
       "Bi matrix game with payoff matrices:\n",
       "\n",
       "Row player:\n",
       "[[ 0.4 -0.6]\n",
       " [ 0.   0. ]]\n",
       "\n",
       "Column player:\n",
       "[[ 0.9  0. ]\n",
       " [-0.1  0. ]]"
      ]
     },
     "execution_count": 75,
     "metadata": {},
     "output_type": "execute_result"
    }
   ],
   "source": [
    "payoffs_row_player = np.array([[b -c1, -c1], [0, 0]])\n",
    "payoffs_col_player = np.array([[b - c2, 0], [-c2, 0]])\n",
    "\n",
    "game = nash.Game(payoffs_row_player, payoffs_col_player)\n",
    "game"
   ]
  },
  {
   "cell_type": "code",
   "execution_count": 76,
   "id": "86e57815",
   "metadata": {},
   "outputs": [],
   "source": [
    "initial_state = [0, 0]\n",
    "\n",
    "max_timesteps = 5 * 10 ** 3\n",
    "\n",
    "betas = [10**i for i in np.linspace(-2, 2, 20)]\n",
    "\n",
    "states = []\n",
    "\n",
    "\n",
    "for beta in betas:\n",
    "    \n",
    "    dicts_ = {0: 0, 1: 0, 2: 0, 3: 0}\n",
    "    \n",
    "    results = introspection_dynamics_one_shot(\n",
    "        game, initial_state, beta, max_timesteps\n",
    "    )\n",
    "\n",
    "    outcomes = np.array(list(map(f, results)))\n",
    "\n",
    "    unique, counts = np.unique(outcomes, return_counts=True)\n",
    "\n",
    "    for key, val in zip(unique, counts):\n",
    "        dicts_[key] = val / max_timesteps\n",
    "    \n",
    "    states.append(list(dicts_.values()))"
   ]
  },
  {
   "cell_type": "code",
   "execution_count": 77,
   "id": "d1b5d226",
   "metadata": {},
   "outputs": [
    {
     "data": {
      "image/png": "[encoded data removed]",
      "text/plain": [
       "<Figure size 640x480 with 1 Axes>"
      ]
     },
     "metadata": {},
     "output_type": "display_data"
    }
   ],
   "source": [
    "plt.plot(states, label=['CC', \"CD\", \"DC\", \"DD\"]);"
   ]
  },
  {
   "cell_type": "markdown",
   "id": "acc7df63",
   "metadata": {},
   "source": [
    "### Repeated"
   ]
  },
  {
   "cell_type": "markdown",
   "id": "68f221db",
   "metadata": {},
   "source": [
    "From the Laura paper."
   ]
  },
  {
   "cell_type": "code",
   "execution_count": 118,
   "id": "55ee88b2",
   "metadata": {},
   "outputs": [
    {
     "data": {
      "text/plain": [
       "Bi matrix game with payoff matrices:\n",
       "\n",
       "Row player:\n",
       "[[ 0.9 -0.1]\n",
       " [ 0.   0. ]]\n",
       "\n",
       "Column player:\n",
       "[[ 0.9  0. ]\n",
       " [-0.1  0. ]]"
      ]
     },
     "execution_count": 118,
     "metadata": {},
     "output_type": "execute_result"
    }
   ],
   "source": [
    "beta = 20\n",
    "\n",
    "b = 1\n",
    "\n",
    "c = 0.1\n",
    "\n",
    "payoffs_row_player = np.array([[b - c, -c], [0, 0]])\n",
    "payoffs_col_player = np.array([[b - c, 0], [-c, 0]])\n",
    "\n",
    "game = nash.Game(payoffs_row_player, payoffs_col_player)\n",
    "game"
   ]
  },
  {
   "cell_type": "code",
   "execution_count": 119,
   "id": "3d54585d",
   "metadata": {},
   "outputs": [
    {
     "data": {
      "application/vnd.jupyter.widget-view+json": {
       "model_id": "2c672ea754c34e10a8729dccb4820fa9",
       "version_major": 2,
       "version_minor": 0
      },
      "text/plain": [
       "  0%|          | 0/100000 [00:00<?, ?it/s]"
      ]
     },
     "metadata": {},
     "output_type": "display_data"
    }
   ],
   "source": [
    "data = introspection_dynamics_repeated_game(\n",
    "    game, [[0 for _ in range(2)], [0 for _ in range(2)]], beta, 10 ** 5\n",
    ")"
   ]
  },
  {
   "cell_type": "code",
   "execution_count": 127,
   "id": "083049e5",
   "metadata": {},
   "outputs": [],
   "source": [
    "# plt.plot(data[:, 2])\n",
    "\n",
    "# plt.plot(data[:, 3])\n",
    "\n",
    "\n",
    "\n",
    "# # plt.plot(data[:, -2])"
   ]
  },
  {
   "cell_type": "code",
   "execution_count": 117,
   "id": "6c29bfdd",
   "metadata": {},
   "outputs": [
    {
     "data": {
      "text/plain": [
       "array([0.96432445, 0.93279153, 0.86618723, 0.93548576, 0.86894587,\n",
       "       0.96019193, 0.74746023, 0.74746023])"
      ]
     },
     "execution_count": 117,
     "metadata": {},
     "output_type": "execute_result"
    }
   ],
   "source": [
    "data[-1]"
   ]
  },
  {
   "cell_type": "code",
   "execution_count": null,
   "id": "21511e7b",
   "metadata": {},
   "outputs": [],
   "source": []
  }
 ],
 "metadata": {
  "kernelspec": {
   "display_name": "Python 3",
   "language": "python",
   "name": "python3"
  },
  "language_info": {
   "codemirror_mode": {
    "name": "ipython",
    "version": 3
   },
   "file_extension": ".py",
   "mimetype": "text/x-python",
   "name": "python",
   "nbconvert_exporter": "python",
   "pygments_lexer": "ipython3",
   "version": "3.11.3"
  }
 },
 "nbformat": 4,
 "nbformat_minor": 5
}
