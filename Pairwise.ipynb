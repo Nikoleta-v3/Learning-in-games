{
 "cells": [
  {
   "cell_type": "code",
   "execution_count": 1,
   "id": "d607b27f-a4d9-43c9-bb6c-7d65379480e1",
   "metadata": {},
   "outputs": [],
   "source": [
    "import numba\n",
    "\n",
    "import numpy as np"
   ]
  },
  {
   "cell_type": "code",
   "execution_count": 2,
   "id": "35c1fa1e-06b0-406b-9612-5762101467a4",
   "metadata": {},
   "outputs": [],
   "source": [
    "import matplotlib.pyplot as plt"
   ]
  },
  {
   "cell_type": "code",
   "execution_count": 3,
   "id": "872bc89b-9e4e-4473-8653-03b7373e6410",
   "metadata": {},
   "outputs": [],
   "source": [
    "from numba import njit\n",
    "\n",
    "import random"
   ]
  },
  {
   "cell_type": "code",
   "execution_count": null,
   "id": "cd124f1b-22a1-437d-8926-75913652b8aa",
   "metadata": {},
   "outputs": [],
   "source": [
    "strategies = np.array([])\n",
    "\n",
    "index = np.array([])\n",
    "\n",
    "count = np.array([])"
   ]
  },
  {
   "cell_type": "code",
   "execution_count": 1,
   "id": "0bd015c7-6eb7-4786-81cf-d31c778ff607",
   "metadata": {},
   "outputs": [],
   "source": [
    "def update_population(stgs, idxstgs, countstgs):\n",
    "    \"\"\"This function ensures that if the count of a strategy drops to zero, the\n",
    "    strategy is removed from the population, and it updates all the np.arrays\n",
    "    associated with the state of the population.\n",
    "\n",
    "    Initially, it deletes the strategy from the `stgs` and its count (which\n",
    "    should be zero) from `countsstgs`. For the indices, it first reduces the\n",
    "    count of the strategies following the deleted one by 1 and then deletes the\n",
    "    strategy's index.\n",
    "\n",
    "    Parameters\n",
    "    ----------\n",
    "    stgs : np.array\n",
    "        The array with the strategies\n",
    "    idxstgs : np.array\n",
    "        An array with indexes assigned to the strategies\n",
    "    countstgs : np.array\n",
    "        The number of population members playing each strategy\n",
    "\n",
    "    Returns\n",
    "    -------\n",
    "    tuple\n",
    "        The updated stgs, idxstgs and countstgs arrays\n",
    "    \"\"\"\n",
    "    i = np.where(countstgs == 0)[0]\n",
    "    if len(i) > 0:\n",
    "        stgs = np.delete(stgs, (i), axis=0)\n",
    "        countstgs = np.delete(countstgs, i)\n",
    "        idxstgs[i[0] + 1 :] -= 1\n",
    "        idxstgs = np.delete(idxstgs, i)\n",
    "    return stgs, idxstgs, countstgs\n",
    "\n",
    "\n",
    "def fermi_outcome(rolemodel_payoff, focalplayer_payoff, beta):\n",
    "    f = 1 / (1 + math.exp(beta * (focalplayer_payoff - rolemodel_payoff)))\n",
    "    if np.random.uniform(0, 1) <= f:\n",
    "        return True\n",
    "    else:\n",
    "        return False\n",
    "    \n",
    "def sample_mutant_one_shot():\n",
    "    return np.random.choice([0, 1])\n",
    "\n",
    " \n",
    "def get_payoffs_one_shot(game, stgs, idxstgs, countstgs, n):\n",
    "    pass\n",
    "\n",
    "\n",
    "def sample_mutant_reactive():\n",
    "    return np.random.random(2)\n",
    "\n",
    "\n",
    "def get_payoffs_repeated(game, stgs, idxstgs, countstgs):\n",
    "    M = repeated_play.transition_matrix_repeated_game(\n",
    "        p1_strategy * 2, p2_strategy * 2, memory=\"one\"\n",
    "    )\n",
    "\n",
    "    ss = repeated_play.stationary_distribution(M)[0]\n",
    "\n",
    "    coop1 = ss[0] + ss[1]\n",
    "\n",
    "    coop2 = ss[0] + ss[2]\n",
    "\n",
    "    return (ss @ payoffs_p1, ss @ payoffs_p2, coop1, coop2)"
   ]
  },
  {
   "cell_type": "code",
   "execution_count": 2,
   "id": "d48f3d1f-e737-4a70-af29-5474277770da",
   "metadata": {},
   "outputs": [
    {
     "ename": "NameError",
     "evalue": "name 'introduced_mutants' is not defined",
     "output_type": "error",
     "traceback": [
      "\u001b[0;31m---------------------------------------------------------------------------\u001b[0m",
      "\u001b[0;31mNameError\u001b[0m                                 Traceback (most recent call last)",
      "Cell \u001b[0;32mIn[2], line 1\u001b[0m\n\u001b[0;32m----> 1\u001b[0m \u001b[38;5;28;01mwhile\u001b[39;00m introduced_mutants \u001b[38;5;241m<\u001b[39m\u001b[38;5;241m=\u001b[39m T:\n\u001b[1;32m      2\u001b[0m     focal_stg \u001b[38;5;241m=\u001b[39m np\u001b[38;5;241m.\u001b[39mrandom\u001b[38;5;241m.\u001b[39mchoice(idxstgs, p\u001b[38;5;241m=\u001b[39mountstgs \u001b[38;5;241m/\u001b[39m \u001b[38;5;28msum\u001b[39m(countstgs))\n\u001b[1;32m      3\u001b[0m     \u001b[38;5;28;01mif\u001b[39;00m random\u001b[38;5;241m.\u001b[39muniform(\u001b[38;5;241m0\u001b[39m, \u001b[38;5;241m1\u001b[39m) \u001b[38;5;241m<\u001b[39m\u001b[38;5;241m=\u001b[39m mu:\n\u001b[1;32m      4\u001b[0m         \u001b[38;5;66;03m# Mutation. For mutation:\u001b[39;00m\n\u001b[1;32m      5\u001b[0m         \u001b[38;5;66;03m# 1. Draw a random mutant strategy from the set of all possible strategies.\u001b[39;00m\n\u001b[0;32m   (...)\u001b[0m\n\u001b[1;32m      9\u001b[0m         \u001b[38;5;66;03m# 5. Set the count of the mutant strategy to 1.\u001b[39;00m\n\u001b[1;32m     10\u001b[0m         \u001b[38;5;66;03m# 6. Update population metrics in case the focal player was the last of its kind.\u001b[39;00m\n",
      "\u001b[0;31mNameError\u001b[0m: name 'introduced_mutants' is not defined"
     ]
    }
   ],
   "source": [
    "while introduced_mutants <= T:\n",
    "    focal_stg = np.random.choice(idxstgs, p=ountstgs / sum(countstgs))\n",
    "    if random.uniform(0, 1) <= mu:\n",
    "        # Mutation. For mutation:\n",
    "        # 1. Draw a random mutant strategy from the set of all possible strategies.\n",
    "        # 2. Decrease the focal player count by 1 as it's replaced by the mutant.\n",
    "        # 3. Update idxstgs by adding a new index (last index + 1).\n",
    "        # 4. Add the mutant strategy to the list of strategies.\n",
    "        # 5. Set the count of the mutant strategy to 1.\n",
    "        # 6. Update population metrics in case the focal player was the last of its kind.\n",
    "        introduced_mutants += 1\n",
    "        newstg = sample_mutant()\n",
    "        \n",
    "        countstgs[focal_stg] -= 1\n",
    "        idxstgs = np.append(idxstgs,idxstgs[-1] + 1)\n",
    "        stgs = np.vstack([stgs,newstg])\n",
    "        countstgs = np.append(countstgs,1)\n",
    "        stgs, idxstgs, countstgs = update_population(stgs, idxstgs, countstgs)\n",
    "\n",
    "    else:\n",
    "        # Selection. For selection:\n",
    "        # 1. Draw a random role model strategy from the population (excluding the focal player).\n",
    "        # 2. If the role model and focal strategies are different, calculate the payoffs.\n",
    "        # 3. If the focal player adopts the role model strategy, update the population metrics.\n",
    "        # 4. Else do nothing.\n",
    "        updated_counts = countstgs.copy()\n",
    "        updated_counts[focal_stg] -= 1\n",
    "        rolemodel_stg = np.random.choice(idxstgs, p = updated_counts/sum(updated_counts))\n",
    "        if rolemodel_stg != focal_stg:\n",
    "\n",
    "\n",
    "            payoffs = get_payoffs(b, c, idxstgs, countstgs, n)\n",
    "            rolemodel_payoff = payoffs[rolemodel_stg]\n",
    "            focalplayer_payoff = payoffs[focal_stg]\n",
    "\n",
    "            if fermi_outcome(rolemodel_payoff,focalplayer_payoff,beta):\n",
    "                countstgs[rolemodel_stg] += 1\n",
    "                countstgs[focal_stg] -= 1\n",
    "                stgs, idxstgs, countstgs = update_population(stgs, idxstgs, countstgs)"
   ]
  },
  {
   "cell_type": "code",
   "execution_count": null,
   "id": "fb4432fd",
   "metadata": {},
   "outputs": [],
   "source": []
  }
 ],
 "metadata": {
  "kernelspec": {
   "display_name": "Python 3",
   "language": "python",
   "name": "python3"
  },
  "language_info": {
   "codemirror_mode": {
    "name": "ipython",
    "version": 3
   },
   "file_extension": ".py",
   "mimetype": "text/x-python",
   "name": "python",
   "nbconvert_exporter": "python",
   "pygments_lexer": "ipython3",
   "version": "3.11.3"
  }
 },
 "nbformat": 4,
 "nbformat_minor": 5
}
