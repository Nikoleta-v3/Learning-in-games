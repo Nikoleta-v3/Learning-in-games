{
 "cells": [
  {
   "cell_type": "code",
   "execution_count": 2,
   "id": "c40678e5",
   "metadata": {},
   "outputs": [],
   "source": [
    "import numpy as np"
   ]
  },
  {
   "cell_type": "code",
   "execution_count": 3,
   "id": "3f5d188e",
   "metadata": {},
   "outputs": [],
   "source": [
    "import matplotlib.pyplot as plt"
   ]
  },
  {
   "cell_type": "code",
   "execution_count": 4,
   "id": "601489ec",
   "metadata": {},
   "outputs": [],
   "source": [
    "import nashpy as nash"
   ]
  },
  {
   "cell_type": "markdown",
   "id": "4e175a24",
   "metadata": {},
   "source": [
    "# Normal Form Games"
   ]
  },
  {
   "cell_type": "markdown",
   "id": "d89efbb5",
   "metadata": {},
   "source": [
    "##  Definition of Normal Form Game\n",
    "An  player normal form game consists of:\n",
    "\n",
    "* A finite set of  players.\n",
    "\n",
    "* Action set for the players: \n",
    "\n",
    "* Payoff functions for the players: "
   ]
  },
  {
   "cell_type": "markdown",
   "id": "e7e17838",
   "metadata": {},
   "source": [
    "This can be a large class but today we will focus on  $2 \\times 2$ games."
   ]
  },
  {
   "cell_type": "markdown",
   "id": "8acbb79e",
   "metadata": {},
   "source": [
    "Despite being very simple, 2 × 2 games encompass many of the strategic tensions that are studied by game theorists. In the following, we classify 2 × 2 games into some classes that correspond to some of these strategic tensions, and that help understand the outcome of learning dynamics."
   ]
  },
  {
   "cell_type": "markdown",
   "id": "36b34c9a",
   "metadata": {},
   "source": [
    "We consider two-player, two-action games. We index the two players by μ∈{Row=R,Column=C} and write sμi for\n",
    "the two actions of player μ, with i = 1, 2. As usual we write −μ for the opponent of player μ. When the two players\n",
    "choose actions sμ and s−μ player μ receives payoff 􏰛μ(sμ,s−μ) and her opponent receives payoff 􏰛−μ(sμ,s−μ). This can ijijij\n",
    "be encoded in a 2 × 2 bi-matrix of payoffs 􏰛,"
   ]
  },
  {
   "cell_type": "markdown",
   "id": "a13e22dd",
   "metadata": {},
   "source": [
    "$$\\pmatrix{\n",
    "      & \\alpha^{2}_1 & \\alpha^{2}_2 \\\\\n",
    "    \\alpha^{1}_1 & (a, e) & (b, g) \\\\\n",
    "    \\alpha^{1}_2 & (c, f) & (d, h) \\\\\n",
    "}$$\n",
    "        "
   ]
  },
  {
   "cell_type": "markdown",
   "id": "480c1e72",
   "metadata": {},
   "source": [
    "## Coordination\n",
    "\n",
    "These correspond to the orderings $a > c, b < d, e > g, f < h$ (coordination games), and $a < c, b > d, e < g, f > h$ (anticoordination games).\n",
    "\n",
    "\n",
    "Coordination games have two pure strategy NE, one at $(\\alpha^{1}_1, \\alpha^{2}_1)$ and the other at $(\\alpha^{1}_2, \\alpha^{2}_2)$. In addition there is one mixed strategy NE. \n",
    "\n",
    "A well-known example of coordination is the Stag-Hunt game. "
   ]
  },
  {
   "cell_type": "markdown",
   "id": "32eae937",
   "metadata": {},
   "source": [
    "## Anticoordination\n",
    "\n",
    "\n",
    "Anticoordination games also have two pure strategy and one mixed strategy NE, but at the pure strategy NE the players choose strategies with different labels, i.e.  $(\\alpha^{1}_1, \\alpha^{2}_2)$ and $(\\alpha^{1}_2, \\alpha^{2}_1)$.\n",
    "\n",
    "A well-known example of an anticoordination game is Chicken."
   ]
  },
  {
   "cell_type": "markdown",
   "id": "a540f013",
   "metadata": {},
   "source": [
    "## Cyclic games.\n",
    "\n",
    "Cyclic games. These correspond to the orderings a > c, e < g, b < d, f > h or a < c, e > g, b > d, f < h. Games of this type\n",
    "are characterized by a cycle of best replies. For example, if one considers the first set of orderings, the best response to\n",
    "sR1 is for Column to play sC2. In response Row would choose sR2 , Column would then play sC1, and the process would never\n",
    "converge to a fixed point. \n",
    "\n",
    "Cyclic games have a unique mixed strategy NE and no pure strategy NE. \n",
    "\n",
    "The prototypical cyclic game is Matching Pennies."
   ]
  },
  {
   "cell_type": "markdown",
   "id": "5ac1c6a7",
   "metadata": {},
   "source": [
    "## Dominance-solvable games\n",
    "\n",
    "These comprise all 12 remaining orderings. These games have a unique pure strategy NE, which\n",
    "can be obtained via elimination of dominated strategies. For instance, if a > c, e > g, b > d, f > h, the NE is (sR\n",
    "1, sC\n",
    "1). The\n",
    "well-known Prisoners’ Dilemma is a 2 × 2 dominance-solvable game. (The dominance-solvable game shown in Table 1 is a\n",
    "Prisoner Dilemma.)"
   ]
  },
  {
   "cell_type": "markdown",
   "id": "8db9edb0-421e-4854-a294-17f0fa5e794e",
   "metadata": {},
   "source": [
    "## Prisoner's Dilemma"
   ]
  },
  {
   "cell_type": "code",
   "execution_count": 4,
   "id": "47f1f68a-0b10-4900-977a-5b6bc5b79aef",
   "metadata": {},
   "outputs": [
    {
     "data": {
      "text/plain": [
       "Bi matrix game with payoff matrices:\n",
       "\n",
       "Row player:\n",
       "[[3 0]\n",
       " [5 1]]\n",
       "\n",
       "Column player:\n",
       "[[3 5]\n",
       " [0 1]]"
      ]
     },
     "execution_count": 4,
     "metadata": {},
     "output_type": "execute_result"
    }
   ],
   "source": [
    "A = np.array([[3, 0], [5, 1]])\n",
    "B = np.array([[3, 5], [0, 1]])\n",
    "\n",
    "prisoners_dilemma = nash.Game(A, B)\n",
    "\n",
    "prisoners_dilemma"
   ]
  },
  {
   "cell_type": "markdown",
   "id": "4a064fe4-17f7-4306-949a-9175dd59e7c9",
   "metadata": {},
   "source": [
    "## Stag Hunt"
   ]
  },
  {
   "cell_type": "code",
   "execution_count": 5,
   "id": "3d0d2111-bc43-47b2-88fb-b7402fe27c40",
   "metadata": {},
   "outputs": [
    {
     "data": {
      "text/plain": [
       "Bi matrix game with payoff matrices:\n",
       "\n",
       "Row player:\n",
       "[[4 1]\n",
       " [3 3]]\n",
       "\n",
       "Column player:\n",
       "[[4 3]\n",
       " [1 3]]"
      ]
     },
     "execution_count": 5,
     "metadata": {},
     "output_type": "execute_result"
    }
   ],
   "source": [
    "A = np.array([[4, 1], [3, 3]])\n",
    "B = np.array([[4, 3], [1, 3]])\n",
    "\n",
    "stag_hunt = nash.Game(A, B)\n",
    "stag_hunt"
   ]
  },
  {
   "cell_type": "markdown",
   "id": "c94e76d6-3216-446d-a100-ace7e977e719",
   "metadata": {},
   "source": [
    "## Matching Pennies"
   ]
  },
  {
   "cell_type": "code",
   "execution_count": 6,
   "id": "7cbdf350-ade2-4c30-923b-3f64a2ae1a23",
   "metadata": {},
   "outputs": [
    {
     "data": {
      "text/plain": [
       "Bi matrix game with payoff matrices:\n",
       "\n",
       "Row player:\n",
       "[[1 0]\n",
       " [0 1]]\n",
       "\n",
       "Column player:\n",
       "[[0 1]\n",
       " [1 0]]"
      ]
     },
     "execution_count": 6,
     "metadata": {},
     "output_type": "execute_result"
    }
   ],
   "source": [
    "A = np.array([[1, 0], [0, 1]])\n",
    "B = np.array([[0, 1], [1, 0]])\n",
    "\n",
    "matching_pennies = nash.Game(A, B)\n",
    "matching_pennies"
   ]
  },
  {
   "cell_type": "code",
   "execution_count": 5,
   "id": "11ff2d14",
   "metadata": {},
   "outputs": [
    {
     "data": {
      "text/plain": [
       "Bi matrix game with payoff matrices:\n",
       "\n",
       "Row player:\n",
       "[[2 1]\n",
       " [3 0]]\n",
       "\n",
       "Column player:\n",
       "[[2 3]\n",
       " [1 0]]"
      ]
     },
     "execution_count": 5,
     "metadata": {},
     "output_type": "execute_result"
    }
   ],
   "source": [
    "payoffs_row_player = np.array([[2, 1], [3, 0]])\n",
    "payoffs_col_player = np.array([[2, 3], [1, 0]])\n",
    "\n",
    "chicken_game = nash.Game(payoffs_row_player, payoffs_col_player)\n",
    "chicken_game"
   ]
  },
  {
   "cell_type": "code",
   "execution_count": 7,
   "id": "8311413f",
   "metadata": {},
   "outputs": [
    {
     "data": {
      "image/png": "[encoded data removed]",
      "text/plain": [
       "<Figure size 350x300 with 1 Axes>"
      ]
     },
     "metadata": {},
     "output_type": "display_data"
    }
   ],
   "source": [
    "plot_nash(chicken_game);"
   ]
  },
  {
   "cell_type": "markdown",
   "id": "6710efef-41cf-4a11-80af-506b67df6a6d",
   "metadata": {},
   "source": [
    "## Nash"
   ]
  },
  {
   "cell_type": "code",
   "execution_count": 7,
   "id": "65f51496-76fa-45d8-93cc-9fed2bc340a5",
   "metadata": {},
   "outputs": [
    {
     "name": "stdout",
     "output_type": "stream",
     "text": [
      "(array([0.5, 0.5]), array([0.5, 0.5]))\n"
     ]
    }
   ],
   "source": [
    "equilibria = matching_pennies.support_enumeration()\n",
    "for eq in equilibria:\n",
    "    print(eq)"
   ]
  },
  {
   "cell_type": "code",
   "execution_count": 8,
   "id": "0e7da6fb-997b-433d-ae18-e3930beda08e",
   "metadata": {},
   "outputs": [
    {
     "name": "stdout",
     "output_type": "stream",
     "text": [
      "(array([0., 1.]), array([0., 1.]))\n"
     ]
    }
   ],
   "source": [
    "equilibria = prisoners_dilemma.support_enumeration()\n",
    "for eq in equilibria:\n",
    "    print(eq)"
   ]
  },
  {
   "cell_type": "code",
   "execution_count": 9,
   "id": "b73a72d9-22d0-4718-b736-5b17ee9fb24e",
   "metadata": {},
   "outputs": [
    {
     "name": "stdout",
     "output_type": "stream",
     "text": [
      "(array([1., 0.]), array([1., 0.]))\n",
      "(array([0., 1.]), array([0., 1.]))\n",
      "(array([0.66666667, 0.33333333]), array([0.66666667, 0.33333333]))\n"
     ]
    }
   ],
   "source": [
    "equilibria = stag_hunt.support_enumeration()\n",
    "for eq in equilibria:\n",
    "    print(eq)"
   ]
  },
  {
   "cell_type": "markdown",
   "id": "99fdb515-1618-44fa-b18b-0c6b1385f694",
   "metadata": {},
   "source": [
    "## Plot Nash"
   ]
  },
  {
   "cell_type": "code",
   "execution_count": 6,
   "id": "afcbbb9c-31ab-4350-8ccd-0f09daaf859f",
   "metadata": {},
   "outputs": [],
   "source": [
    "def plot_nash(game):\n",
    "\n",
    "    fig, axes = plt.subplots(figsize=(3.5, 3))\n",
    "    \n",
    "    axes.set_ylabel(\"probability of playing $B$\");axes.set_xlabel(\"probability of playing $A$\");\n",
    "    \n",
    "    axes.set_ylim(-0.1, 1.1); axes.set_xlim(-0.1, 1.1); \n",
    "    \n",
    "    equilibria = game.support_enumeration()\n",
    "    \n",
    "    for eq in equilibria:\n",
    "        x = eq[0][0]\n",
    "        y = eq[1][0]\n",
    "    \n",
    "        axes.scatter(x, y, color='black', marker='^', s=100)\n",
    "\n",
    "    return fig, axes"
   ]
  },
  {
   "cell_type": "code",
   "execution_count": 19,
   "id": "50a310e6-644f-48f7-928d-a77944d867b4",
   "metadata": {},
   "outputs": [
    {
     "data": {
      "image/png": "[encoded data removed]",
      "text/plain": [
       "<Figure size 350x300 with 1 Axes>"
      ]
     },
     "metadata": {},
     "output_type": "display_data"
    }
   ],
   "source": [
    "plot_nash(prisoners_dilemma);"
   ]
  },
  {
   "cell_type": "code",
   "execution_count": 20,
   "id": "d0cd1184-c971-492e-be6d-0f46ad38cc4a",
   "metadata": {},
   "outputs": [
    {
     "data": {
      "image/png": "[encoded data removed]",
      "text/plain": [
       "<Figure size 350x300 with 1 Axes>"
      ]
     },
     "metadata": {},
     "output_type": "display_data"
    }
   ],
   "source": [
    "plot_nash(stag_hunt);"
   ]
  },
  {
   "cell_type": "code",
   "execution_count": 21,
   "id": "7b108ea2-7c88-4142-b88c-9f290bc8713c",
   "metadata": {},
   "outputs": [
    {
     "data": {
      "image/png": "[encoded data removed]",
      "text/plain": [
       "<Figure size 350x300 with 1 Axes>"
      ]
     },
     "metadata": {},
     "output_type": "display_data"
    }
   ],
   "source": [
    "plot_nash(matching_pennies);"
   ]
  },
  {
   "cell_type": "code",
   "execution_count": null,
   "id": "a5854cb3-564c-49b1-96fa-da7682d670a6",
   "metadata": {},
   "outputs": [],
   "source": []
  }
 ],
 "metadata": {
  "kernelspec": {
   "display_name": "Python 3",
   "language": "python",
   "name": "python3"
  },
  "language_info": {
   "codemirror_mode": {
    "name": "ipython",
    "version": 3
   },
   "file_extension": ".py",
   "mimetype": "text/x-python",
   "name": "python",
   "nbconvert_exporter": "python",
   "pygments_lexer": "ipython3",
   "version": "3.11.3"
  }
 },
 "nbformat": 4,
 "nbformat_minor": 5
}
